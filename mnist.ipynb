{
 "cells": [
  {
   "cell_type": "code",
   "execution_count": 1,
   "metadata": {},
   "outputs": [],
   "source": [
    "from __future__ import print_function\n",
    "import argparse\n",
    "import torch\n",
    "import torch.nn as nn\n",
    "import torch.nn.functional as F\n",
    "import torch.optim as optim\n",
    "from torchvision import datasets, transforms\n",
    "from torch.optim.lr_scheduler import StepLR\n",
    "from models.quantization import Quantization\n",
    "import matplotlib.pyplot as plt\n",
    "from torch.nn.utils.parametrize import register_parametrization as rpm\n",
    "from tqdm.notebook import tqdm\n",
    "import numpy as np"
   ]
  },
  {
   "cell_type": "code",
   "execution_count": 2,
   "metadata": {},
   "outputs": [],
   "source": [
    "%load_ext autoreload\n",
    "%autoreload 2\n"
   ]
  },
  {
   "cell_type": "code",
   "execution_count": 48,
   "metadata": {},
   "outputs": [],
   "source": [
    "class QuantizedWeights(nn.Module):\n",
    "    \"\"\"\n",
    "    Parametrization of the weights of a layer with quantization\n",
    "\n",
    "    Args:\n",
    "        mask (torch.tensor): mask for the weights\n",
    "    \"\"\"\n",
    "\n",
    "    def __init__(self, quant):\n",
    "        super().__init__()\n",
    "        self.quant = quant\n",
    "\n",
    "    def forward(self, W):\n",
    "        return self.quant(W)\n",
    "\n",
    "\n",
    "class Net(nn.Module):\n",
    "    def __init__(self, quantization=False):\n",
    "        super(Net, self).__init__()\n",
    "\n",
    "        self.fc1 = nn.Linear(28 * 28, 128, bias=False)\n",
    "        self.fc2 = nn.Linear(128, 10, bias=False)\n",
    "        self.dropout1 = nn.Dropout(0.1)\n",
    "\n",
    "        if quantization:\n",
    "            self.quant_values = [-4, -2, -1, 0, 1, 2, 4]\n",
    "            # self.quant_biases = np.zeros(len(self.quant_values) - 1)\n",
    "            self.quant_biases = np.linspace(\n",
    "                self.fc1.weight.data.min(),\n",
    "                self.fc1.weight.data.max(),\n",
    "                len(self.quant_values) - 1,\n",
    "            )\n",
    "            self.quant = Quantization(\n",
    "                quant_values=self.quant_values,\n",
    "                quan_bias=self.quant_biases,\n",
    "                init_beta=1,\n",
    "                device=\"cpu\",\n",
    "            )\n",
    "            # rpm(self.conv1, \"weight\", QuantizedWeights(self.quant))\n",
    "            # rpm(self.conv2, \"weight\", QuantizedWeights(self.quant))\n",
    "            rpm(self.fc1, \"weight\", QuantizedWeights(self.quant))\n",
    "            rpm(self.fc2, \"weight\", QuantizedWeights(self.quant))\n",
    "\n",
    "\n",
    "    def forward(self, x):\n",
    "        x = x.view(-1, 28 * 28)\n",
    "        x = self.fc1(x)\n",
    "        # x  = self.dropout1(x)\n",
    "        x = F.relu(x)\n",
    "        # x = self.dropout1(x)\n",
    "        x = self.fc2(x)\n",
    "        output = F.log_softmax(x, dim=1)\n",
    "        return output"
   ]
  },
  {
   "cell_type": "code",
   "execution_count": 26,
   "metadata": {},
   "outputs": [],
   "source": [
    "use_cuda = torch.cuda.is_available()\n",
    "device = torch.device(\"cuda\" if  use_cuda else \"cpu\")"
   ]
  },
  {
   "cell_type": "code",
   "execution_count": 37,
   "metadata": {},
   "outputs": [],
   "source": [
    "model = Net(quantization=True)"
   ]
  },
  {
   "cell_type": "code",
   "execution_count": 43,
   "metadata": {},
   "outputs": [
    {
     "data": {
      "image/png": "[encoded data removed]",
      "text/plain": [
       "<Figure size 640x480 with 1 Axes>"
      ]
     },
     "metadata": {},
     "output_type": "display_data"
    }
   ],
   "source": [
    "if hasattr(model, \"quant\") : \n",
    "    model.quant.training = True\n",
    "    model.quant.T = 100\n",
    "plt.hist(model.fc1.weight.cpu().detach().numpy().flatten(), bins=100);\n",
    "# model.quant.training = False\n",
    "# plt.hist(model.fc1.weight.detach().numpy().flatten(), bins=100);"
   ]
  },
  {
   "cell_type": "code",
   "execution_count": 45,
   "metadata": {},
   "outputs": [],
   "source": [
    "def train(model, device, train_loader, optimizer, epoch, pbar=None):\n",
    "    model.train()\n",
    "    if hasattr(model, \"quant\"):\n",
    "        model.quant.training = True\n",
    "    for batch_idx, (data, target) in enumerate(train_loader):\n",
    "        data, target = data.to(device), target.to(device)\n",
    "        optimizer.zero_grad()\n",
    "        output = model(data)\n",
    "        loss = F.nll_loss(output, target)\n",
    "        loss.backward()\n",
    "        optimizer.step()\n",
    "\n",
    "        if hasattr(model, \"quant\"):\n",
    "            model.quant.T += 1\n",
    "\n",
    "        desc = str(\n",
    "            \"Train Epoch: {} [{}/{} ({:.0f}%)]\\tLoss: {:.6f}\".format(\n",
    "                epoch,\n",
    "                batch_idx * len(data),\n",
    "                len(train_loader.dataset),\n",
    "                100.0 * batch_idx / len(train_loader),\n",
    "                loss.item(),\n",
    "            )\n",
    "        )\n",
    "\n",
    "        if pbar is not None:\n",
    "            pbar.set_description(desc)\n",
    "    \n",
    "def test(model, device, test_loader, pbar=None):\n",
    "    model.eval()\n",
    "    if hasattr(model, \"quant\"):\n",
    "        model.quant.training = False\n",
    "    test_loss = 0\n",
    "    correct = 0\n",
    "    with torch.no_grad():\n",
    "        for data, target in test_loader:\n",
    "            data, target = data.to(device), target.to(device)\n",
    "            output = model(data)\n",
    "            test_loss += F.nll_loss(\n",
    "                output, target, reduction=\"sum\"\n",
    "            ).item()  # sum up batch loss\n",
    "            pred = output.argmax(\n",
    "                dim=1, keepdim=True\n",
    "            )  # get the index of the max log-probability\n",
    "            correct += pred.eq(target.view_as(pred)).sum().item()\n",
    "\n",
    "    test_loss /= len(test_loader.dataset)\n",
    "\n",
    "    desc = str(\n",
    "        \"| Test set: Average loss: {:.4f}, Accuracy: {}/{} ({:.0f}%)\\n\".format(\n",
    "            test_loss,\n",
    "            correct,\n",
    "            len(test_loader.dataset),\n",
    "            100.0 * correct / len(test_loader.dataset),\n",
    "        )\n",
    "    )\n",
    "\n",
    "    if pbar is not None:\n",
    "        pbar.set_description(desc)\n",
    "\n",
    "    return test_loss, correct / len(test_loader.dataset), desc"
   ]
  },
  {
   "cell_type": "code",
   "execution_count": 46,
   "metadata": {},
   "outputs": [],
   "source": [
    "batch_size = 64\n",
    "test_batch_size = 1000\n",
    "\n",
    "train_kwargs = {\"batch_size\": batch_size}\n",
    "test_kwargs = {\"batch_size\": test_batch_size}\n",
    "if use_cuda:\n",
    "    cuda_kwargs = {\"num_workers\": 1, \"pin_memory\": True, \"shuffle\": True}\n",
    "    train_kwargs.update(cuda_kwargs)\n",
    "    test_kwargs.update(cuda_kwargs)\n",
    "\n",
    "transform = transforms.Compose(\n",
    "    [transforms.ToTensor(), transforms.Normalize((0.1307,), (0.3081,))]\n",
    ")\n",
    "dataset1 = datasets.MNIST(\"../data\", train=True, download=True, transform=transform)\n",
    "dataset2 = datasets.MNIST(\"../data\", train=False, transform=transform)\n",
    "train_loader = torch.utils.data.DataLoader(dataset1, **train_kwargs)\n",
    "test_loader = torch.utils.data.DataLoader(dataset2, **test_kwargs)\n",
    "\n",
    "\n",
    "model = Net(quantization=True).to(device)\n",
    "if hasattr(model, \"quant\") :\n",
    "    model.quant.training = True\n",
    "    model.quant.T = 100\n",
    "lr = 1e-3\n",
    "gamma = 0.95\n",
    "optimizer = optim.Adam(model.parameters(), lr=lr)\n",
    "\n",
    "n_epochs = 30"
   ]
  },
  {
   "cell_type": "code",
   "execution_count": 47,
   "metadata": {},
   "outputs": [
    {
     "data": {
      "application/vnd.jupyter.widget-view+json": {
       "model_id": "35e65cbb98534f2796fc186d57a047f6",
       "version_major": 2,
       "version_minor": 0
      },
      "text/plain": [
       "  0%|          | 0/30 [00:00<?, ?it/s]"
      ]
     },
     "metadata": {},
     "output_type": "display_data"
    }
   ],
   "source": [
    "scheduler = StepLR(optimizer, step_size=1, gamma=gamma)\n",
    "pbar = tqdm(range(1, n_epochs + 1))\n",
    "for epoch in pbar:\n",
    "    train(model, device, train_loader, optimizer, epoch, pbar=None)\n",
    "    test(model, device, test_loader, pbar=pbar)\n",
    "    scheduler.step()\n"
   ]
  },
  {
   "cell_type": "code",
   "execution_count": 21,
   "metadata": {},
   "outputs": [
    {
     "data": {
      "text/plain": [
       "(3.6413160400390625,\n",
       " 0.1136,\n",
       " '| Test set: Average loss: 3.6413, Accuracy: 1136/10000 (11%)\\n')"
      ]
     },
     "execution_count": 21,
     "metadata": {},
     "output_type": "execute_result"
    }
   ],
   "source": [
    "test(model, device, test_loader, pbar=pbar)\n"
   ]
  },
  {
   "cell_type": "code",
   "execution_count": 10,
   "metadata": {},
   "outputs": [
    {
     "data": {
      "text/plain": [
       "torch.Size([64, 1, 28, 28])"
      ]
     },
     "execution_count": 10,
     "metadata": {},
     "output_type": "execute_result"
    }
   ],
   "source": [
    "next(iter(train_loader))[0].shape"
   ]
  },
  {
   "cell_type": "code",
   "execution_count": 38,
   "metadata": {},
   "outputs": [
    {
     "data": {
      "image/png": "[encoded data removed]",
      "text/plain": [
       "<Figure size 640x480 with 1 Axes>"
      ]
     },
     "metadata": {},
     "output_type": "display_data"
    }
   ],
   "source": [
    "model.quant.training = True\n",
    "plt.hist(model.conv1.weight.cpu().detach().numpy().flatten(), bins=100);\n"
   ]
  },
  {
   "cell_type": "code",
   "execution_count": 39,
   "metadata": {},
   "outputs": [
    {
     "data": {
      "image/png": "[encoded data removed]",
      "text/plain": [
       "<Figure size 640x480 with 1 Axes>"
      ]
     },
     "metadata": {},
     "output_type": "display_data"
    }
   ],
   "source": [
    "model.quant.training = False\n",
    "plt.hist(model.conv1.weight.cpu().detach().numpy().flatten(), bins=100);"
   ]
  },
  {
   "cell_type": "code",
   "execution_count": 35,
   "metadata": {},
   "outputs": [],
   "source": [
    "for m, n in model.named_parameters():\n",
    "    if hasattr(n, \"weight\"):\n",
    "        plt.hist(n.weight.detach().cpu().numpy().flatten(), bins=100)"
   ]
  },
  {
   "cell_type": "code",
   "execution_count": null,
   "metadata": {},
   "outputs": [],
   "source": []
  }
 ],
 "metadata": {
  "kernelspec": {
   "display_name": "eventprop",
   "language": "python",
   "name": "python3"
  },
  "language_info": {
   "codemirror_mode": {
    "name": "ipython",
    "version": 3
   },
   "file_extension": ".py",
   "mimetype": "text/x-python",
   "name": "python",
   "nbconvert_exporter": "python",
   "pygments_lexer": "ipython3",
   "version": "3.11.5"
  }
 },
 "nbformat": 4,
 "nbformat_minor": 2
}
